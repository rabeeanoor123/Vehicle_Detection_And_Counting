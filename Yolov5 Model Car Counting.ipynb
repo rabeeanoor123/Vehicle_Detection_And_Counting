{
 "cells": [
  {
   "cell_type": "code",
   "execution_count": 1,
   "metadata": {},
   "outputs": [],
   "source": [
    "import cv2\n",
    "import torch\n",
    "import numpy as np\n",
    "from moviepy.editor import VideoFileClip"
   ]
  },
  {
   "cell_type": "code",
   "execution_count": 2,
   "metadata": {},
   "outputs": [
    {
     "name": "stderr",
     "output_type": "stream",
     "text": [
      "Using cache found in C:\\Users\\Rabeea/.cache\\torch\\hub\\ultralytics_yolov5_master\n",
      "YOLOv5  2022-10-25 Python-3.9.16 torch-1.11.0+cpu CPU\n",
      "\n",
      "Downloading https://github.com/ultralytics/yolov5/releases/download/v6.2/yolov5s.pt to yolov5s.pt...\n"
     ]
    },
    {
     "data": {
      "application/vnd.jupyter.widget-view+json": {
       "model_id": "1dcd25869646470a8a7db77cce08e62a",
       "version_major": 2,
       "version_minor": 0
      },
      "text/plain": [
       "  0%|          | 0.00/14.1M [00:00<?, ?B/s]"
      ]
     },
     "metadata": {},
     "output_type": "display_data"
    },
    {
     "name": "stderr",
     "output_type": "stream",
     "text": [
      "\n",
      "Fusing layers... \n",
      "YOLOv5s summary: 213 layers, 7225885 parameters, 0 gradients\n",
      "Adding AutoShape... \n"
     ]
    }
   ],
   "source": [
    "# Load YOLOv5 model\n",
    "model = torch.hub.load('ultralytics/yolov5', 'yolov5s')"
   ]
  },
  {
   "cell_type": "code",
   "execution_count": 11,
   "metadata": {},
   "outputs": [],
   "source": [
    "# Configuration\n",
    "line_position = 1000\n",
    "current_detections = []\n",
    "car_count = 0\n",
    "car_ids = []\n",
    "current_id = 0\n",
    "\n",
    "def get_center(x, y, w, h):\n",
    "    x1 = int(w / 2)\n",
    "    y1 = int(h / 2)\n",
    "    cx = x + x1\n",
    "    cy = y + y1\n",
    "    return cx, cy\n",
    "\n",
    "def get_distance(pt1, pt2):\n",
    "    return np.sqrt((pt1[0]-pt2[0])**2 + (pt1[1]-pt2[1])**2)"
   ]
  },
  {
   "cell_type": "code",
   "execution_count": 18,
   "metadata": {},
   "outputs": [],
   "source": [
    "# Video source input\n",
    "cap = cv2.VideoCapture(r'D:\\Github Files\\2023-Learning-Journey\\Projects\\Yolov5 Model Car Counting\\Cars On Highway.mp4')"
   ]
  },
  {
   "cell_type": "code",
   "execution_count": 19,
   "metadata": {},
   "outputs": [],
   "source": [
    "# Set up video writer\n",
    "fourcc = cv2.VideoWriter_fourcc(*'mp4v')\n",
    "out = cv2.VideoWriter(r'D:\\Github Files\\2023-Learning-Journey\\Projects\\Yolov5 Model Car Counting\\processed_video', fourcc, 20.0, (int(cap.get(3)), int(cap.get(4))))"
   ]
  },
  {
   "cell_type": "code",
   "execution_count": 10,
   "metadata": {},
   "outputs": [],
   "source": [
    "while True:\n",
    "    ret, frame = cap.read()        \n",
    "    new_detections = []\n",
    "\n",
    "    if not ret:\n",
    "        break\n",
    "\n",
    "    # Use YOLOv5 to detect vehicles\n",
    "    results = model(frame)\n",
    "    current_centroids = []\n",
    "    \n",
    "    for *xyxy, conf, cls in results.pred[0]:\n",
    "        if int(cls) == 2:  # Assuming class ID for cars is 2\n",
    "            x1, y1, x2, y2 = map(int, xyxy)\n",
    "            cv2.rectangle(frame, (x1, y1), (x2, y2), (0, 255, 0), 2)\n",
    "            \n",
    "            center = get_center(x1, y1, x2-x1, y2-y1)\n",
    "            current_centroids.append(center)\n",
    "\n",
    "    # Match current centroids with previous detections\n",
    "    for center in current_centroids:\n",
    "        if len(current_detections) == 0:  # if it's the first detection\n",
    "            current_id += 1\n",
    "            new_detections.append((center, current_id))\n",
    "        else:\n",
    "            # Find the closest detected centroid from the previous frame\n",
    "            distances = [get_distance(center, prev_center) for prev_center, _ in current_detections]\n",
    "            min_distance = min(distances)\n",
    "            index = distances.index(min_distance)\n",
    "            \n",
    "            if min_distance < 50:  # Threshold distance, you might need to adjust this\n",
    "                new_detections.append((center, current_detections[index][1]))\n",
    "            else:\n",
    "                current_id += 1\n",
    "                new_detections.append((center, current_id))\n",
    "\n",
    "    # Counting cars based on line crossing\n",
    "    for (x, y), car_id in new_detections:\n",
    "        if (y < (line_position + 6)) and (y > (line_position - 6)):\n",
    "            if car_id not in car_ids:\n",
    "                car_ids.append(car_id)\n",
    "                car_count += 1\n",
    "                print(\"No. of cars detected : \" + str(car_count))\n",
    "                \n",
    "        # Display ID near the centroid\n",
    "        cv2.putText(frame, f\"ID:{car_id}\", (x-10, y-10), cv2.FONT_HERSHEY_SIMPLEX, 0.5, (0, 0, 255), 2)\n",
    "\n",
    "    # Drawing the counting line\n",
    "    cv2.line(frame, (0, line_position), (frame.shape[1], line_position), (0, 0, 255), 2)\n",
    "    cv2.putText(frame, \"VEHICLE COUNT : \"+str(car_count), (320, 70), cv2.FONT_HERSHEY_COMPLEX, 2, (0, 0, 255), 4)\n",
    "    # cv2.imshow(\"Vehicle Count\", frame)\n",
    "\n",
    "    # Update current_detections with new_detections for the next frame\n",
    "    current_detections = new_detections\n",
    "\n",
    "    # Save the processed frame\n",
    "    out.write(frame)  \n",
    "    \n",
    "    if cv2.waitKey(1) & 0xFF == ord('q'):\n",
    "        break\n",
    "\n",
    "# Release everything\n",
    "cap.release()\n",
    "out.release()\n",
    "cv2.destroyAllWindows()"
   ]
  },
  {
   "cell_type": "code",
   "execution_count": null,
   "metadata": {},
   "outputs": [],
   "source": [
    "#Display the saved video using moviepy\n",
    "clip = VideoFileClip(r'D:\\Github Files\\2023-Learning-Journey\\Projects\\Yolov5 Model Car Counting\\processed_video.mp4')\n",
    "clip.ipython_display(width = 1080, maxduration = 200)"
   ]
  }
 ],
 "metadata": {
  "kernelspec": {
   "display_name": "opencv",
   "language": "python",
   "name": "python3"
  },
  "language_info": {
   "codemirror_mode": {
    "name": "ipython",
    "version": 3
   },
   "file_extension": ".py",
   "mimetype": "text/x-python",
   "name": "python",
   "nbconvert_exporter": "python",
   "pygments_lexer": "ipython3",
   "version": "3.9.16"
  },
  "orig_nbformat": 4
 },
 "nbformat": 4,
 "nbformat_minor": 2
}
